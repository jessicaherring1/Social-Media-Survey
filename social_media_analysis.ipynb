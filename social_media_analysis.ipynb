{
 "cells": [
  {
   "cell_type": "code",
   "execution_count": 26,
   "metadata": {},
   "outputs": [],
   "source": [
    "import pandas as pd\n",
    "\n",
    "df = pd.read_csv(\"SocialMediaSurvey.csv\")\n",
    "numRows = len(df)"
   ]
  },
  {
   "attachments": {},
   "cell_type": "markdown",
   "metadata": {},
   "source": [
    "# WHO\n",
    "\n",
    "a. Age\n",
    "\n",
    "b. What year are you?\n",
    "\n",
    "c. Gender"
   ]
  },
  {
   "cell_type": "code",
   "execution_count": 27,
   "metadata": {},
   "outputs": [
    {
     "name": "stdout",
     "output_type": "stream",
     "text": [
      "0.0 0.0 0.0 21.428571428571427 53.57142857142857 21.428571428571427 3.571428571428571 0.0\n"
     ]
    }
   ],
   "source": [
    "#age\n",
    "\n",
    "p17 = ( len(df[df['Age'] == 17]) / numRows) *100\n",
    "\n",
    "p18 = ( len(df[df['Age'] == 18]) / numRows) *100\n",
    "\n",
    "p19 = ( len(df[df['Age'] == 19]) / numRows) *100\n",
    "\n",
    "p20 = ( len(df[df['Age'] == 20]) / numRows) *100\n",
    "\n",
    "p21 = ( len(df[df['Age'] == 21]) / numRows) *100\n",
    "\n",
    "p22 = ( len(df[df['Age'] == 22]) / numRows) *100\n",
    "\n",
    "p23 = ( len(df[df['Age'] == 23]) / numRows) *100\n",
    "\n",
    "pOther  = ( len(df[df['Age'] > 23]) / numRows) *100\n",
    "\n",
    "print(p17, p18, p19, p20, p21, p22, p23, pOther)"
   ]
  },
  {
   "cell_type": "code",
   "execution_count": 28,
   "metadata": {},
   "outputs": [
    {
     "name": "stdout",
     "output_type": "stream",
     "text": [
      "3.571428571428571 17.857142857142858 32.142857142857146 42.857142857142854 3.571428571428571\n"
     ]
    }
   ],
   "source": [
    "#year\n",
    "\n",
    "fresh = ( len(df[df['What year are you?'].str.contains('Freshman')]) / numRows) *100\n",
    "\n",
    "soph = ( len(df[df['What year are you?'].str.contains('Sophmore')]) / numRows) *100\n",
    "\n",
    "jun = ( len(df[df['What year are you?'].str.contains('Junior')]) / numRows) *100\n",
    "\n",
    "sen = ( len(df[df['What year are you?'].str.contains('Senior')]) / numRows) *100\n",
    "\n",
    "senPlus = ( len(df[df['What year are you?'].str.contains('Senor+')]) / numRows) *100\n",
    "\n",
    "print(fresh, soph, jun, sen, senPlus)"
   ]
  },
  {
   "cell_type": "code",
   "execution_count": 29,
   "metadata": {},
   "outputs": [
    {
     "name": "stdout",
     "output_type": "stream",
     "text": [
      "75.0 21.428571428571427 0.0 0.0 0.0 3.571428571428571\n"
     ]
    }
   ],
   "source": [
    "#gender\n",
    "\n",
    "fem = ( len(df[df['Gender'].str.contains('Female')]) / numRows) *100\n",
    "\n",
    "male = ( len(df[df['Gender'].str.contains('Male')]) / numRows) *100\n",
    "\n",
    "tMale = ( len(df[df['Gender'].str.contains('Transgender Male')]) / numRows) *100\n",
    "\n",
    "tFem = ( len(df[df['Gender'].str.contains('Transgender Female')]) / numRows) *100\n",
    "\n",
    "nb = ( len(df[df['Gender'].str.contains('Non-binary')]) / numRows) *100\n",
    "\n",
    "pnts = ( len(df[df['Gender'].str.contains('prefer not to say')]) / numRows) *100\n",
    "\n",
    "print(fem, male, tMale, tFem, nb, pnts)"
   ]
  },
  {
   "attachments": {},
   "cell_type": "markdown",
   "metadata": {},
   "source": [
    "# WHAT\n",
    "\n",
    "What social media platforms do you use?"
   ]
  },
  {
   "cell_type": "code",
   "execution_count": 30,
   "metadata": {},
   "outputs": [
    {
     "name": "stdout",
     "output_type": "stream",
     "text": [
      "100.0 82.14285714285714 71.42857142857143 71.42857142857143 35.714285714285715 21.428571428571427 46.42857142857143 7.142857142857142 100.0\n"
     ]
    }
   ],
   "source": [
    "#percentages for each platform \n",
    "platformUsage = {}\n",
    "\n",
    "insta = ( len(df[df['What social media platforms do you use?'].str.contains('Instagram')])  / numRows) *100\n",
    "platformUsage[\"Instagram\"] = len(df[df['What social media platforms do you use?'].str.contains('Instagram')]) \n",
    "\n",
    "tik = ( len(df[df['What social media platforms do you use?'].str.contains('TikTok')])  / numRows) *100\n",
    "platformUsage[\"TikTok\"] = len(df[df['What social media platforms do you use?'].str.contains('TikTok')]) \n",
    "\n",
    "snap = ( len(df[df['What social media platforms do you use?'].str.contains('Snap')])  / numRows) *100\n",
    "platformUsage[\"Snapchat\"] = len(df[df['What social media platforms do you use?'].str.contains('Snap')]) \n",
    "\n",
    "youtube = ( len(df[df['What social media platforms do you use?'].str.contains('Youtube')])  / numRows) *100\n",
    "platformUsage[\"Youtube\"] =  len(df[df['What social media platforms do you use?'].str.contains('Youtube')]) \n",
    "\n",
    "x = ( len(df[df['What social media platforms do you use?'].str.contains('X')])  / numRows) *100\n",
    "platformUsage[\"X\"] =  len(df[df['What social media platforms do you use?'].str.contains('X')]) \n",
    "\n",
    "fbook = ( len(df[df['What social media platforms do you use?'].str.contains('Facebook')])  / numRows) *100\n",
    "platformUsage[\"Facebook\"] = len(df[df['What social media platforms do you use?'].str.contains('Facebook')]) \n",
    "\n",
    "pin = ( len(df[df['What social media platforms do you use?'].str.contains('Pin')]) / numRows) *100\n",
    "platformUsage[\"Pinterst\"] = len(df[df['What social media platforms do you use?'].str.contains('Pin')])\n",
    "\n",
    "twi  = ( len(df[df['What social media platforms do you use?'].str.contains('Twi')])  / numRows) *100\n",
    "platformUsage[\"Twitter\"] = len(df[df['What social media platforms do you use?'].str.contains('Twi')]) \n",
    "\n",
    "# TODO\n",
    "#oth  = ( len(df[df['What social media platforms do you use?'].str.contains('')])  / numRows) *100\n",
    "platformUsage[\"oth\"] = 0\n",
    "\n",
    "print(insta, tik, snap, youtube, x, fbook, pin, twi, oth)"
   ]
  },
  {
   "cell_type": "code",
   "execution_count": 31,
   "metadata": {},
   "outputs": [
    {
     "name": "stdout",
     "output_type": "stream",
     "text": [
      "{'Instagram': 28, 'TikTok': 23, 'Snapchat': 20, 'Youtube': 20, 'X': 10, 'Facebook': 6, 'Pinterst': 13, 'Twitter': 2, 'oth': 0}\n"
     ]
    }
   ],
   "source": [
    "print(platformUsage)"
   ]
  },
  {
   "attachments": {},
   "cell_type": "markdown",
   "metadata": {},
   "source": [
    "# WHERE\n",
    "\n",
    "Where are you most when using social media?"
   ]
  },
  {
   "cell_type": "code",
   "execution_count": 33,
   "metadata": {},
   "outputs": [
    {
     "name": "stdout",
     "output_type": "stream",
     "text": [
      "89.28571428571429 3.571428571428571 7.142857142857142\n"
     ]
    }
   ],
   "source": [
    "home = ( len(df[df['Where are you most when using social media?'].str.contains('At home')]) / numRows) *100\n",
    "\n",
    "inClass = ( len(df[df['Where are you most when using social media?'].str.contains('In class')]) / numRows) *100\n",
    "\n",
    "friends = ( len(df[df['Where are you most when using social media?'].str.contains('With friends')]) / numRows) *100\n",
    "\n",
    "\n",
    "print(home, inClass, friends)"
   ]
  },
  {
   "attachments": {},
   "cell_type": "markdown",
   "metadata": {},
   "source": [
    "# WHEN\n",
    "\n",
    "When do you use social media the most?"
   ]
  },
  {
   "cell_type": "code",
   "execution_count": 34,
   "metadata": {},
   "outputs": [
    {
     "name": "stdout",
     "output_type": "stream",
     "text": [
      "17.857142857142858 57.14285714285714 64.28571428571429\n"
     ]
    }
   ],
   "source": [
    "\n",
    "morn = ( len(df[df['when do you use social media the most?'].str.contains('In the morning')]) / numRows) *100\n",
    "\n",
    "day = ( len(df[df['when do you use social media the most?'].str.contains('During the day')]) / numRows) *100\n",
    "\n",
    "night = ( len(df[df['when do you use social media the most?'].str.contains('At night')]) / numRows) *100\n",
    "\n",
    "\n",
    "\n",
    "print(morn, day, night)"
   ]
  },
  {
   "attachments": {},
   "cell_type": "markdown",
   "metadata": {},
   "source": [
    "# WHY\n",
    "\n",
    "1. Why do you use those (social media platforms)? What type of content do you usually want to see?\n",
    "\n",
    "2. Why do you use social media when you do?\n",
    "\n",
    "3. Why do you use it in that space?\n"
   ]
  },
  {
   "cell_type": "code",
   "execution_count": 35,
   "metadata": {},
   "outputs": [
    {
     "name": "stdout",
     "output_type": "stream",
     "text": [
      "100.0 60.71428571428571 64.28571428571429 75.0 42.857142857142854 42.857142857142854 28.57142857142857 42.857142857142854 0\n"
     ]
    }
   ],
   "source": [
    "#why do you use those\n",
    "\n",
    "pik = ( len(df[df['Why do you use those? What type of content do you usally want to see?'].str.contains('People I know')])/ numRows) *100\n",
    "\n",
    "influencers = ( len(df[df['Why do you use those? What type of content do you usally want to see?'].str.contains('influencers')]) / numRows) *100\n",
    "\n",
    "pics = ( len(df[df['Why do you use those? What type of content do you usally want to see?'].str.contains('pictures')]) / numRows) *100\n",
    "\n",
    "sev = ( len(df[df['Why do you use those? What type of content do you usally want to see?'].str.contains('short entertaining')])/ numRows) *100\n",
    "\n",
    "siv = ( len(df[df['Why do you use those? What type of content do you usally want to see?'].str.contains('short informational')])/ numRows) *100\n",
    "\n",
    "lev = ( len(df[df['Why do you use those? What type of content do you usally want to see?'].str.contains('long e')])/ numRows) *100\n",
    "\n",
    "liv = ( len(df[df['Why do you use those? What type of content do you usally want to see?'].str.contains('long in')])/ numRows) *100\n",
    "\n",
    "inspo  = ( len(df[df['Why do you use those? What type of content do you usally want to see?'].str.contains('insp')])/ numRows) *100\n",
    "\n",
    "# TODO\n",
    "# other  = ( len(df[df['Why do you use those? What type of content do you usally want to see?'].str.contains('')])/ numRows) *100\n",
    "other = 0 \n",
    "\n",
    "print(pik, influencers, pics, sev, siv, lev, liv, inspo, other)"
   ]
  },
  {
   "cell_type": "code",
   "execution_count": 37,
   "metadata": {},
   "outputs": [
    {
     "name": "stdout",
     "output_type": "stream",
     "text": [
      "53.57142857142857 71.42857142857143 82.14285714285714 82.14285714285714 67.85714285714286 67.85714285714286\n"
     ]
    }
   ],
   "source": [
    "# why do you use it when you do \n",
    "\n",
    "wokeUp = ( len(df[df['Why do you use social media when you do? '].str.contains('Just')]) / numRows) *100\n",
    "\n",
    "bed = ( len(df[df['Why do you use social media when you do? '].str.contains('Going')]) / numRows) *100\n",
    "\n",
    "bored = ( len(df[df['Why do you use social media when you do? '].str.contains('Bored')])/ numRows) *100\n",
    "\n",
    "classAct = ( len(df[df['Why do you use social media when you do? '].str.contains('Between')])/ numRows) *100\n",
    "\n",
    "eat = ( len(df[df['Why do you use social media when you do? '].str.contains('Eating')])/ numRows) *100\n",
    "\n",
    "takeBreak = ( len(df[df['Why do you use social media when you do? '].str.contains('Taking')])/ numRows) *100\n",
    "\n",
    "\n",
    "print(wokeUp, bed, bored, classAct, eat, takeBreak)"
   ]
  },
  {
   "cell_type": "code",
   "execution_count": 38,
   "metadata": {},
   "outputs": [
    {
     "name": "stdout",
     "output_type": "stream",
     "text": [
      "46.42857142857143 35.714285714285715 17.857142857142858 0\n"
     ]
    }
   ],
   "source": [
    "# why do you use it in that space?\n",
    "\n",
    "reason = ( len(df[df['Why do you use it in that space?'].str.contains('aligns')])/ numRows) *100\n",
    "\n",
    "nothing = ( len(df[df['Why do you use it in that space?'].str.contains('nothing')])/ numRows) *100\n",
    "\n",
    "people = ( len(df[df['Why do you use it in that space?'].str.contains('other')])/ numRows) *100\n",
    "\n",
    "# TODO\n",
    "# other = ( / numRows) *100\n",
    "other = 0\n",
    "\n",
    "\n",
    "print(reason, nothing, people,  other)"
   ]
  },
  {
   "attachments": {},
   "cell_type": "markdown",
   "metadata": {},
   "source": [
    "# EXTRA\n",
    "\n",
    "1. How does social media make you feel?\n",
    "\n",
    "2. Do you wish you spent less time on it?\n",
    "\n",
    "3. How frequently do you use it each day\n"
   ]
  },
  {
   "cell_type": "code",
   "execution_count": 39,
   "metadata": {},
   "outputs": [
    {
     "name": "stdout",
     "output_type": "stream",
     "text": [
      "92.85714285714286 32.142857142857146 57.14285714285714 17.857142857142858 28.57142857142857 14.285714285714285 0\n"
     ]
    }
   ],
   "source": [
    "# how does social media make you feel\n",
    "\n",
    "connected = ( len(df[df['How does social media make you feel?'].str.contains('connected')]) / numRows) *100\n",
    "\n",
    "isolated = ( len(df[df['How does social media make you feel?'].str.contains('isolated')]) / numRows) *100\n",
    "\n",
    "happy = ( len(df[df['How does social media make you feel?'].str.contains('happy')]) / numRows) *100\n",
    "\n",
    "jealous = ( len(df[df['How does social media make you feel?'].str.contains('jealous')]) / numRows) *100\n",
    "\n",
    "insecure = ( len(df[df['How does social media make you feel?'].str.contains('insecure')])/ numRows) *100\n",
    "\n",
    "confident = ( len(df[df['How does social media make you feel?'].str.contains('confident')]) / numRows) *100\n",
    "\n",
    "# TODO\n",
    "#other  = ( / numRows) *100\n",
    "other = 0\n",
    "\n",
    "\n",
    "print(connected, isolated, happy, jealous, insecure, confident, other)"
   ]
  },
  {
   "cell_type": "code",
   "execution_count": 40,
   "metadata": {},
   "outputs": [
    {
     "name": "stdout",
     "output_type": "stream",
     "text": [
      "78.57142857142857 21.428571428571427\n"
     ]
    }
   ],
   "source": [
    "# do you wish you spent less time on social media \n",
    "\n",
    "yes  = ( len(df[df['do you wish you spent less time on social media?'].str.contains('yes')]) / numRows) *100\n",
    "\n",
    "no  = ( len(df[df['do you wish you spent less time on social media?'].str.contains('no')]) / numRows) *100\n",
    "\n",
    "\n",
    "print(yes, no)"
   ]
  },
  {
   "cell_type": "code",
   "execution_count": 55,
   "metadata": {},
   "outputs": [
    {
     "name": "stdout",
     "output_type": "stream",
     "text": [
      "0.0 0.0 3.571428571428571 10.714285714285714 17.857142857142858 25.0 7.142857142857142 17.857142857142858 17.857142857142858\n"
     ]
    }
   ],
   "source": [
    "# how frequently \n",
    "frequency = {}\n",
    "\n",
    "\n",
    "never = ( len(df[df['How frequently do you use it each day?'].str.contains('never')]) / numRows) *100\n",
    "frequency[\"never\"] = len(df[df['How frequently do you use it each day?'].str.contains('never')]) \n",
    "\n",
    "fewPerWeek = ( len(df[df['How frequently do you use it each day?'].str.contains('few times')]) / numRows) *100\n",
    "frequency[\"few times\"] = len(df[df['How frequently do you use it each day?'].str.contains('few times')]) \n",
    "\n",
    "le30 = ( len(df[df['How frequently do you use it each day?'].str.contains('30 min')]) / numRows) *100\n",
    "frequency[\"30 min\"] = len(df[df['How frequently do you use it each day?'].str.contains('30 min')]) \n",
    "\n",
    "one = ( len(df[df['How frequently do you use it each day?'].str.contains('1 hour')]) / numRows) *100\n",
    "frequency[\"1 hour\"] = len(df[df['How frequently do you use it each day?'].str.contains('1 hour')]) \n",
    "\n",
    "oneHalf = ( len(df[df['How frequently do you use it each day?'].str.contains('1.5 hour')])/ numRows) *100\n",
    "frequency[\"1.5 hour\"] = len(df[df['How frequently do you use it each day?'].str.contains('1.5 hour')]) \n",
    "\n",
    "two = ( len(df[df['How frequently do you use it each day?'].str.contains('2 hour')]) / numRows) *100\n",
    "frequency[\"2 hour\"] = len(df[df['How frequently do you use it each day?'].str.contains('2 hour')]) \n",
    "\n",
    "twoHalf = ( len(df[df['How frequently do you use it each day?'].str.contains('2.5 hour')]) / numRows) *100\n",
    "frequency[\"2.5 hour\"] = len(df[df['How frequently do you use it each day?'].str.contains('2.5 hour')]) \n",
    "\n",
    "#double counting\n",
    "three = ( len(df[df['How frequently do you use it each day?'] == '3 hours']) / numRows) *100\n",
    "frequency[\"3 hour\"] = len(df[df['How frequently do you use it each day?'] == '3 hours']) \n",
    "\n",
    "threePlus  = ( len(df[df['How frequently do you use it each day?'].str.contains('more than 3 hours')]) / numRows) *100\n",
    "frequency[\"more than 3 hours\"] = len(df[df['How frequently do you use it each day?'].str.contains('more than 3 hours')]) \n",
    "\n",
    "\n",
    "\n",
    "print(never, fewPerWeek, le30, one, oneHalf, two, twoHalf, three, threePlus)"
   ]
  },
  {
   "cell_type": "code",
   "execution_count": 56,
   "metadata": {},
   "outputs": [
    {
     "data": {
      "text/plain": [
       "{'never': 0,\n",
       " 'few times': 0,\n",
       " '30 min': 1,\n",
       " '1 hour': 3,\n",
       " '1.5 hour': 5,\n",
       " '2 hour': 7,\n",
       " '2.5 hour': 2,\n",
       " '3 hour': 5,\n",
       " 'more than 3 hours': 5}"
      ]
     },
     "execution_count": 56,
     "metadata": {},
     "output_type": "execute_result"
    }
   ],
   "source": [
    "frequency"
   ]
  }
 ],
 "metadata": {
  "kernelspec": {
   "display_name": "base",
   "language": "python",
   "name": "python3"
  },
  "language_info": {
   "codemirror_mode": {
    "name": "ipython",
    "version": 3
   },
   "file_extension": ".py",
   "mimetype": "text/x-python",
   "name": "python",
   "nbconvert_exporter": "python",
   "pygments_lexer": "ipython3",
   "version": "3.11.5"
  },
  "orig_nbformat": 4,
  "vscode": {
   "interpreter": {
    "hash": "155de6c39c2f4434ae6c38bfc6e6fd4c02d061597445aeb1b96e0d17a3faf7bc"
   }
  }
 },
 "nbformat": 4,
 "nbformat_minor": 2
}
